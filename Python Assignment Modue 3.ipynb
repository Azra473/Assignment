{
 "cells": [
  {
   "cell_type": "code",
   "execution_count": 6,
   "id": "7a33ebad-6b27-44b5-ac04-ea85d47a56b6",
   "metadata": {},
   "outputs": [
    {
     "data": {
      "text/plain": [
       "10"
      ]
     },
     "execution_count": 6,
     "metadata": {},
     "output_type": "execute_result"
    }
   ],
   "source": [
    "list=[1,2,3,4,5,6,7,8,9,10]\n",
    "list.pop()"
   ]
  },
  {
   "cell_type": "code",
   "execution_count": 21,
   "id": "8605ad71-bdab-4b9d-9418-6a3628506395",
   "metadata": {},
   "outputs": [
    {
     "name": "stdout",
     "output_type": "stream",
     "text": [
      "Largest is :  10\n",
      "Smallest is :  1\n",
      "55\n"
     ]
    }
   ],
   "source": [
    "data=[1,2,3,4,5,6,7,8,9,10]\n",
    "largest=max(data)\n",
    "print(\"Largest is : \", largest)\n",
    "smallest=min(data)\n",
    "print(\"Smallest is : \", smallest)\n",
    "total=0\n",
    "for i in data:\n",
    "    total+=i\n",
    "print(total)"
   ]
  },
  {
   "cell_type": "code",
   "execution_count": 25,
   "id": "89f564d7-0d8c-479f-ac04-19125f8e86bb",
   "metadata": {},
   "outputs": [
    {
     "name": "stdout",
     "output_type": "stream",
     "text": [
      "List wihtout duplicates is :  [1, 2, 3, 4, 5]\n"
     ]
    }
   ],
   "source": [
    "list=[1,1,2,2,3,3,3,4,4,4,4,5,5,5]\n",
    "unique=[]\n",
    "for i in list:\n",
    "    if i not in unique:\n",
    "        unique.append(i)\n",
    "print(\"List wihtout duplicates is : \", unique)"
   ]
  },
  {
   "cell_type": "code",
   "execution_count": 29,
   "id": "875f449a-07cb-414c-a2a0-c2f6925b0c8b",
   "metadata": {},
   "outputs": [
    {
     "name": "stdout",
     "output_type": "stream",
     "text": [
      "List is empty\n"
     ]
    }
   ],
   "source": [
    "list=[]\n",
    "if not list:\n",
    "    print(\"List is empty\")\n",
    "else:\n",
    "    print(\"List is not empty\")"
   ]
  },
  {
   "cell_type": "code",
   "execution_count": 30,
   "id": "525d32d0-faef-4f6a-b3e9-88ab2d55c1fd",
   "metadata": {},
   "outputs": [
    {
     "name": "stdout",
     "output_type": "stream",
     "text": [
      "True\n"
     ]
    }
   ],
   "source": [
    "l1=[1,2,3,4,5]\n",
    "l2=[4,5,6,7,8]\n",
    "result=any(element in l2 for element in l1)\n",
    "print(result)"
   ]
  },
  {
   "cell_type": "code",
   "execution_count": 31,
   "id": "9baafd4a-9115-4e90-9bab-c101becbcaed",
   "metadata": {},
   "outputs": [
    {
     "name": "stdout",
     "output_type": "stream",
     "text": [
      "First and last 5 elements of squares from 1 to 30 : \n"
     ]
    },
    {
     "data": {
      "text/plain": [
       "[1, 4, 9, 16, 25, 676, 729, 784, 841, 900]"
      ]
     },
     "execution_count": 31,
     "metadata": {},
     "output_type": "execute_result"
    }
   ],
   "source": [
    "print(\"First and last 5 elements of squares from 1 to 30 : \",)\n",
    "[x**2 for x in range(1,6)] + [x**2 for x in range(26,31)]"
   ]
  },
  {
   "cell_type": "code",
   "execution_count": 33,
   "id": "1d171ad9-77ca-4593-959a-b692d0754582",
   "metadata": {},
   "outputs": [
    {
     "name": "stdout",
     "output_type": "stream",
     "text": [
      "Converted string :  Azra\n"
     ]
    }
   ],
   "source": [
    "char=['A', 'z', 'r', 'a']\n",
    "string=\"\"\n",
    "for c in char:\n",
    "    string+=c\n",
    "print(\"Converted string : \", string)"
   ]
  },
  {
   "cell_type": "code",
   "execution_count": 44,
   "id": "669449ce-ca35-4232-af50-9bf0c0044cb6",
   "metadata": {},
   "outputs": [
    {
     "data": {
      "text/plain": [
       "'farheen'"
      ]
     },
     "execution_count": 44,
     "metadata": {},
     "output_type": "execute_result"
    }
   ],
   "source": [
    "import random\n",
    "data=['azra','safeya','farheen','kulsum']\n",
    "random.random()\n",
    "random.choice(data)"
   ]
  },
  {
   "cell_type": "code",
   "execution_count": 50,
   "id": "58c7963b-8bd1-4a71-abd6-b7719e688a9f",
   "metadata": {},
   "outputs": [
    {
     "name": "stdout",
     "output_type": "stream",
     "text": [
      "Second smallest number is :  2\n"
     ]
    }
   ],
   "source": [
    "data=[1,3,4,5,6,2,7,8,9,10]\n",
    "data.sort()\n",
    "print(\"Second smallest number is : \", data[1])"
   ]
  },
  {
   "cell_type": "code",
   "execution_count": 49,
   "id": "5eb15a07-d2ca-451b-bef9-edb5786e3fe5",
   "metadata": {},
   "outputs": [
    {
     "name": "stdout",
     "output_type": "stream",
     "text": [
      "list contains sub list\n"
     ]
    }
   ],
   "source": [
    "l1=[1,2,3,4,5]\n",
    "l2=[3,4,5]\n",
    "if all(i in l1 for i in l2):\n",
    "    print(\"list contains sub list\")\n",
    "else:\n",
    "    print(\"list does not contains sub list\")"
   ]
  },
  {
   "cell_type": "code",
   "execution_count": 2,
   "id": "0524c0b5-9110-4d2d-ad66-2c0a72a89478",
   "metadata": {},
   "outputs": [
    {
     "name": "stdout",
     "output_type": "stream",
     "text": [
      "a= 1\n",
      "b= 2\n",
      "c= 3\n",
      "d= 4\n",
      "e= 5\n"
     ]
    }
   ],
   "source": [
    "list=[1,2,3,4,5]\n",
    "a,b,c,d,e=list\n",
    "print('a=',a)\n",
    "print('b=',b)\n",
    "print('c=',c)\n",
    "print('d=',d)\n",
    "print('e=',e)"
   ]
  },
  {
   "cell_type": "code",
   "execution_count": 3,
   "id": "59d92498-e701-4191-91b1-427f76d84c2f",
   "metadata": {},
   "outputs": [
    {
     "name": "stdout",
     "output_type": "stream",
     "text": [
      "(1, 'azra', 3.14, True, [1, 2, 3], {'a': 1, 'b': 2})\n"
     ]
    }
   ],
   "source": [
    "tuple=(1, \"azra\", 3.14, True, [1,2,3], {\"a\":1, \"b\":2})\n",
    "print(tuple)"
   ]
  },
  {
   "cell_type": "code",
   "execution_count": 4,
   "id": "70a7b6b8-2d75-487c-bd67-2d7de7abcc5b",
   "metadata": {},
   "outputs": [
    {
     "name": "stdout",
     "output_type": "stream",
     "text": [
      "(1, 2, 3, 4, 5)\n"
     ]
    }
   ],
   "source": [
    "tuple=(1,2,3,4,5)\n",
    "print(tuple)"
   ]
  },
  {
   "cell_type": "code",
   "execution_count": 6,
   "id": "93240eea-7dcf-475f-a791-1b9cfc5d834a",
   "metadata": {},
   "outputs": [
    {
     "name": "stdout",
     "output_type": "stream",
     "text": [
      "Azra\n"
     ]
    }
   ],
   "source": [
    "tuple=('A','z','r','a')\n",
    "string=\"\"\n",
    "for i in tuple:\n",
    "    string+=i\n",
    "print(string)"
   ]
  },
  {
   "cell_type": "code",
   "execution_count": 9,
   "id": "60d5b3df-589e-4885-865b-5313fe72b566",
   "metadata": {},
   "outputs": [
    {
     "name": "stdout",
     "output_type": "stream",
     "text": [
      "c exists in tuple\n"
     ]
    }
   ],
   "source": [
    "tuple=('a','b','c','d','e')\n",
    "element='c'\n",
    "if element in tuple:\n",
    "    print(f'{element} exists in tuple')\n",
    "else:\n",
    "    print(f'{element} does not exixts in tuple')"
   ]
  },
  {
   "cell_type": "code",
   "execution_count": 10,
   "id": "c709f173-90b3-4df5-9460-a2a5404e0ffc",
   "metadata": {},
   "outputs": [
    {
     "name": "stdout",
     "output_type": "stream",
     "text": [
      "4\n"
     ]
    }
   ],
   "source": [
    "tuple=(1,2,3,4)\n",
    "print(len(tuple))"
   ]
  },
  {
   "cell_type": "code",
   "execution_count": 15,
   "id": "6ea8a210-3901-4087-bd01-0011e22e8a13",
   "metadata": {},
   "outputs": [
    {
     "name": "stdout",
     "output_type": "stream",
     "text": [
      "(1, 2, 3, 4)\n"
     ]
    }
   ],
   "source": [
    "list=[1,2,3,4]\n",
    "tuple=(*list,)\n",
    "print(tuple)"
   ]
  },
  {
   "cell_type": "code",
   "execution_count": 24,
   "id": "da1bc57e-0939-4742-827d-0018c57437aa",
   "metadata": {},
   "outputs": [
    {
     "name": "stdout",
     "output_type": "stream",
     "text": [
      "(5, 4, 3, 2, 1)\n"
     ]
    }
   ],
   "source": [
    "tuple=(1,2,3,4,5)\n",
    "reverse=tuple[::-1]\n",
    "print(reverse)"
   ]
  },
  {
   "cell_type": "code",
   "execution_count": 37,
   "id": "edc34d24-88b1-4fc6-ac77-a4b24f927f66",
   "metadata": {},
   "outputs": [
    {
     "name": "stdout",
     "output_type": "stream",
     "text": [
      "new list :  [(1, 2, 10), (4, 5, 10), (7, 8, 10)]\n"
     ]
    }
   ],
   "source": [
    "list=[(1,2,3),(4,5,6),(7,8,9)]\n",
    "lastvalue=10\n",
    "list = [i[:-1] + (lastvalue,) for i in list]\n",
    "print(\"new list : \", list)"
   ]
  },
  {
   "cell_type": "code",
   "execution_count": 6,
   "id": "721f6530-a398-4e25-bf94-723d5e978f65",
   "metadata": {},
   "outputs": [
    {
     "name": "stdout",
     "output_type": "stream",
     "text": [
      "[2, 4, 5]\n"
     ]
    }
   ],
   "source": [
    "tuple=(1,2,2,3,4,4,5,5)\n",
    "repeated=[i for i in set(tuple)\n",
    "if tuple.count(i)>1]\n",
    "print(repeated)"
   ]
  },
  {
   "cell_type": "code",
   "execution_count": 41,
   "id": "e9437d92-7dc9-4401-8ba1-3dce2b4a51d6",
   "metadata": {},
   "outputs": [
    {
     "name": "stdout",
     "output_type": "stream",
     "text": [
      "[(1, 2, 3), (4, 5, 6)]\n"
     ]
    }
   ],
   "source": [
    "list=[(1,2,3),(),(4,5,6),()]\n",
    "list=[i for i in list if i]\n",
    "print(list)"
   ]
  },
  {
   "cell_type": "code",
   "execution_count": 42,
   "id": "4a4b2c8d-b406-40e8-a18d-f0d7a36d0dfb",
   "metadata": {},
   "outputs": [
    {
     "name": "stdout",
     "output_type": "stream",
     "text": [
      "{1: 'a', 2: 'b', 3: 'c'}\n"
     ]
    }
   ],
   "source": [
    "list=[(1,'a'),(2,'b'),(3,'c')]\n",
    "dictionary=dict(list)\n",
    "print(dictionary)"
   ]
  },
  {
   "cell_type": "code",
   "execution_count": 43,
   "id": "d6c7ebcc-508b-451e-b8bc-7d01f01ed72b",
   "metadata": {},
   "outputs": [
    {
     "name": "stdout",
     "output_type": "stream",
     "text": [
      "{'a': 1, 'b': 2, 'c': 3, 'd': 4}\n"
     ]
    }
   ],
   "source": [
    "d1={'a':1,'b':2}\n",
    "d2={'c':3,'d':4}\n",
    "d3={**d1,**d2}\n",
    "print(d3)"
   ]
  },
  {
   "cell_type": "code",
   "execution_count": 47,
   "id": "d2f1dd05-6646-4ccf-b5b9-41f6c5992dfb",
   "metadata": {},
   "outputs": [
    {
     "name": "stdout",
     "output_type": "stream",
     "text": [
      "{1: '', 2: '', 3: '', 4: '', 5: '', 6: '', 7: '', 8: '', 9: '', 10: '', 11: '', 12: '', 13: '', 14: '', 15: ''}\n"
     ]
    }
   ],
   "source": [
    "dict={i:\"\" for i in range(1,16)}\n",
    "print(dict)"
   ]
  },
  {
   "cell_type": "code",
   "execution_count": 50,
   "id": "4b0cc03c-ccba-4bae-a821-0221398b2e45",
   "metadata": {},
   "outputs": [
    {
     "name": "stdout",
     "output_type": "stream",
     "text": [
      "All keys exists in dictionary\n"
     ]
    }
   ],
   "source": [
    "dict={'a': 1, 'b': 2, 'c': 3, 'd': 4}\n",
    "check=['a','b','c']\n",
    "if all(key in dict for key in check):\n",
    "    print(\"All keys exists in dictionary\")\n",
    "else:\n",
    "    print(\"Not all keys exists in dictionary\")"
   ]
  },
  {
   "cell_type": "code",
   "execution_count": 51,
   "id": "2d941331-f841-44ee-864a-c311d616c189",
   "metadata": {},
   "outputs": [
    {
     "name": "stdout",
     "output_type": "stream",
     "text": [
      "{'a': 1, 'b': 2, 'c': 3, 'd': 4}\n"
     ]
    }
   ],
   "source": [
    "d1={'a':1,'b':2}\n",
    "d2={'c':3,'d':4}\n",
    "merged={**d1,**d2}\n",
    "print(merged)"
   ]
  },
  {
   "cell_type": "code",
   "execution_count": 56,
   "id": "027f372f-5e85-4c97-a212-18412e701df8",
   "metadata": {},
   "outputs": [
    {
     "name": "stdout",
     "output_type": "stream",
     "text": [
      "{1, 2, 3}\n"
     ]
    }
   ],
   "source": [
    "dict={'a': 1, 'b': 2, 'c': 1, 'd': 2, 'e':3}\n",
    "unique=set(dict.values())\n",
    "print(unique)"
   ]
  },
  {
   "cell_type": "code",
   "execution_count": 58,
   "id": "89986ec5-78a7-4af2-87e6-02409accd8b7",
   "metadata": {},
   "outputs": [
    {
     "name": "stdout",
     "output_type": "stream",
     "text": [
      "ac\n",
      "ad\n",
      "bc\n",
      "bd\n"
     ]
    }
   ],
   "source": [
    "dict={'1': ['a','b'], '2': ['c','d']} \n",
    "for i in dict['1']:\n",
    "    for j in dict['2']:\n",
    "        print(i+j)"
   ]
  },
  {
   "cell_type": "code",
   "execution_count": 61,
   "id": "cc54ed48-6fd1-481e-bc35-446d71fc1e6f",
   "metadata": {},
   "outputs": [
    {
     "name": "stdout",
     "output_type": "stream",
     "text": [
      "[4, 3, 2]\n"
     ]
    }
   ],
   "source": [
    "d={'a': 4, 'b': 2, 'c': 1, 'd': 3}\n",
    "highest_3=sorted(d.values(),reverse=True)[:3]\n",
    "print(highest_3)"
   ]
  },
  {
   "cell_type": "code",
   "execution_count": 63,
   "id": "ff3a8f58-2b2e-44ba-bb52-d5f64c7a2c27",
   "metadata": {},
   "outputs": [
    {
     "name": "stdout",
     "output_type": "stream",
     "text": [
      "Counter({'item1': 1150, 'item2': 300})\n"
     ]
    }
   ],
   "source": [
    "from collections import Counter\n",
    "data=[{'item': 'item1', 'amount': 400}, {'item': 'item2', 'amount': 300}, {'item': 'item1', 'amount': 750}] \n",
    "counter=Counter()\n",
    "for i in data:\n",
    "    counter[i['item']] += i['amount']\n",
    "print(counter)"
   ]
  },
  {
   "cell_type": "code",
   "execution_count": 65,
   "id": "9d77f644-1ec8-46cb-832c-b2b62d5ae3e3",
   "metadata": {},
   "outputs": [
    {
     "name": "stdout",
     "output_type": "stream",
     "text": [
      "Counter({'p': 2, 'o': 2, 'r': 2, 'y': 1, 't': 1, 'h': 1, 'n': 1, 'g': 1, 'a': 1, 'm': 1})\n"
     ]
    }
   ],
   "source": [
    "from collections import Counter\n",
    "s='pythonprogram'\n",
    "word_count=Counter(s)\n",
    "print(word_count)"
   ]
  },
  {
   "cell_type": "code",
   "execution_count": 67,
   "id": "f2da9802-30bc-4b61-9f36-71ad8a9194d5",
   "metadata": {},
   "outputs": [
    {
     "data": {
      "text/plain": [
       "1"
      ]
     },
     "execution_count": 67,
     "metadata": {},
     "output_type": "execute_result"
    }
   ],
   "source": [
    "from math import factorial\n",
    "factorial(0)"
   ]
  },
  {
   "cell_type": "code",
   "execution_count": 5,
   "id": "1ac9b8d3-b55e-4ccc-ad11-cf2775234ae1",
   "metadata": {},
   "outputs": [
    {
     "name": "stdout",
     "output_type": "stream",
     "text": [
      "4 is in range\n"
     ]
    }
   ],
   "source": [
    "check=4\n",
    "start=1\n",
    "end=10\n",
    "if start <= check <= end:\n",
    "    print(f'{check} is in range')\n",
    "else:\n",
    "    print(f'{check} is not in range')"
   ]
  },
  {
   "cell_type": "code",
   "execution_count": 14,
   "id": "85d37dbe-4779-4c94-8d38-5d48d63be330",
   "metadata": {},
   "outputs": [
    {
     "name": "stdout",
     "output_type": "stream",
     "text": [
      "perfect number\n"
     ]
    }
   ],
   "source": [
    "num=28\n",
    "divisorssum=sum(i for i in range(1,num) if num%i==0)\n",
    "if divisorssum==num:\n",
    "     print(\"perfect number\")\n",
    "else:\n",
    "    print(\"not perfect number\")"
   ]
  },
  {
   "cell_type": "code",
   "execution_count": 19,
   "id": "d20d0a34-e316-4d69-8533-f3017e053574",
   "metadata": {},
   "outputs": [
    {
     "name": "stdout",
     "output_type": "stream",
     "text": [
      "Palindrome\n"
     ]
    }
   ],
   "source": [
    "string='mom'\n",
    "if string==string[::-1]:\n",
    "    print(\"Palindrome\")\n",
    "else:\n",
    "    print(\"Not Palindrome\")"
   ]
  },
  {
   "cell_type": "code",
   "execution_count": 2,
   "id": "d72116f7-8f04-48bf-bfe3-e5be30f77ae7",
   "metadata": {},
   "outputs": [
    {
     "name": "stdout",
     "output_type": "stream",
     "text": [
      "i am fine.\n"
     ]
    }
   ],
   "source": [
    "import random\n",
    "with open('data.txt','r')as file:\n",
    "     lines=file.readlines()\n",
    "     print(random.choice(lines).strip())"
   ]
  },
  {
   "cell_type": "code",
   "execution_count": 3,
   "id": "eb6c4fdb-8a98-4d70-a97f-d8cdc7723e6a",
   "metadata": {},
   "outputs": [
    {
     "name": "stdin",
     "output_type": "stream",
     "text": [
      "Enter the side of trapezoid :  12\n",
      "Enter the side of trapezoid :  14\n",
      "Enter the height of trapezoid :  16\n"
     ]
    },
    {
     "name": "stdout",
     "output_type": "stream",
     "text": [
      "Area of trapezoid is : 208.0\n"
     ]
    }
   ],
   "source": [
    "a=int(input(\"Enter the side of trapezoid : \"))\n",
    "b=int(input(\"Enter the side of trapezoid : \"))\n",
    "h=int(input(\"Enter the height of trapezoid : \"))\n",
    "area=(a+b)/2*h\n",
    "print(f'Area of trapezoid is : {area}')"
   ]
  },
  {
   "cell_type": "code",
   "execution_count": 35,
   "id": "e65892b9-7f83-4286-a233-4dac5098aff5",
   "metadata": {},
   "outputs": [
    {
     "name": "stdin",
     "output_type": "stream",
     "text": [
      "Enter the base of parallelogram :  12\n",
      "Enter the height of parallelogram :  14\n"
     ]
    },
    {
     "name": "stdout",
     "output_type": "stream",
     "text": [
      "Area of Parallelogram is : 168\n"
     ]
    }
   ],
   "source": [
    "b=int(input(\"Enter the base of parallelogram : \"))\n",
    "h=int(input(\"Enter the height of parallelogram : \"))\n",
    "area=b*h\n",
    "print(f'Area of Parallelogram is : {area}')"
   ]
  },
  {
   "cell_type": "code",
   "execution_count": 37,
   "id": "77ef95f5-a22a-469a-8a04-b2091dd1bb86",
   "metadata": {},
   "outputs": [
    {
     "name": "stdin",
     "output_type": "stream",
     "text": [
      "Enter the radius of cylinder :  12\n",
      "Enter the height of cylinder :  14\n"
     ]
    },
    {
     "name": "stdout",
     "output_type": "stream",
     "text": [
      "Surface of Cylinder is : 1960.353815840031\n"
     ]
    }
   ],
   "source": [
    "from math import pi\n",
    "r=int(input(\"Enter the radius of cylinder : \"))\n",
    "h=int(input(\"Enter the height of cylinder : \"))\n",
    "surface=(2*pi*r*h) + (2*pi*r*r)\n",
    "print(f'Surface of Cylinder is : {surface}')"
   ]
  },
  {
   "cell_type": "code",
   "execution_count": 42,
   "id": "71c93838-d5b9-40d9-8700-b9c1d0c2a316",
   "metadata": {},
   "outputs": [
    {
     "name": "stdin",
     "output_type": "stream",
     "text": [
      "Enter the number :  8\n"
     ]
    },
    {
     "name": "stdout",
     "output_type": "stream",
     "text": [
      "sum of divisors of 8 is 15\n"
     ]
    }
   ],
   "source": [
    "number=int(input(\"Enter the number : \"))\n",
    "divisors=0\n",
    "for i in range(1,number+1):\n",
    "    if number%i==0:\n",
    "        divisors+=i\n",
    "print(f'sum of divisors of {number} is {divisors}')"
   ]
  },
  {
   "cell_type": "code",
   "execution_count": null,
   "id": "9bee9637-12c3-4da2-8306-4c6016aaf2cf",
   "metadata": {},
   "outputs": [],
   "source": []
  }
 ],
 "metadata": {
  "kernelspec": {
   "display_name": "Python 3 (ipykernel)",
   "language": "python",
   "name": "python3"
  },
  "language_info": {
   "codemirror_mode": {
    "name": "ipython",
    "version": 3
   },
   "file_extension": ".py",
   "mimetype": "text/x-python",
   "name": "python",
   "nbconvert_exporter": "python",
   "pygments_lexer": "ipython3",
   "version": "3.11.7"
  }
 },
 "nbformat": 4,
 "nbformat_minor": 5
}
