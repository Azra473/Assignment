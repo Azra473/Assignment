{
 "cells": [
  {
   "cell_type": "code",
   "execution_count": 3,
   "id": "65c13f97-2fcf-446c-a92e-14d36ae2a35e",
   "metadata": {},
   "outputs": [
    {
     "name": "stdin",
     "output_type": "stream",
     "text": [
      "Enter a number: 0\n"
     ]
    },
    {
     "name": "stdout",
     "output_type": "stream",
     "text": [
      "Number is zero\n"
     ]
    }
   ],
   "source": [
    "a=int(input(\"Enter a number:\"))\n",
    "if a>0:\n",
    "    print(\"Positive number\")\n",
    "elif a==0:\n",
    "        print(\"Number is zero\")\n",
    "else:\n",
    "    print(\"Negative number\")"
   ]
  },
  {
   "cell_type": "code",
   "execution_count": 4,
   "id": "ed6b5faa-b339-44b7-b1da-4949e78eb7e9",
   "metadata": {},
   "outputs": [
    {
     "data": {
      "text/plain": [
       "720"
      ]
     },
     "execution_count": 4,
     "metadata": {},
     "output_type": "execute_result"
    }
   ],
   "source": [
    "from math import factorial\n",
    "factorial(6)"
   ]
  },
  {
   "cell_type": "code",
   "execution_count": 6,
   "id": "26d46e04-b874-4502-bfde-3b8afbb8df32",
   "metadata": {},
   "outputs": [
    {
     "name": "stdin",
     "output_type": "stream",
     "text": [
      "Enter a number :  5\n"
     ]
    },
    {
     "name": "stdout",
     "output_type": "stream",
     "text": [
      "Odd number\n"
     ]
    }
   ],
   "source": [
    "a=float(input(\"Enter a number : \"))\n",
    "if (a%2==0):\n",
    "    print(\"Even number\")\n",
    "else:\n",
    "    print(\"Odd number\")"
   ]
  },
  {
   "cell_type": "code",
   "execution_count": 8,
   "id": "2bd91d26-f8e6-4791-91a2-ce6f2a090a13",
   "metadata": {},
   "outputs": [
    {
     "name": "stdout",
     "output_type": "stream",
     "text": [
      "12\n"
     ]
    }
   ],
   "source": [
    "a= \"Hello World!\"\n",
    "print(len(a))"
   ]
  },
  {
   "cell_type": "code",
   "execution_count": 9,
   "id": "3aaf4a1d-8fd7-43a5-99a1-887e368b8577",
   "metadata": {},
   "outputs": [
    {
     "name": "stdin",
     "output_type": "stream",
     "text": [
      "Enter any number :  5\n",
      "Enter any number :  4\n",
      "Enter any number :  3\n"
     ]
    },
    {
     "name": "stdout",
     "output_type": "stream",
     "text": [
      "addition of numbers are : 12\n"
     ]
    }
   ],
   "source": [
    "a=int(input(\"Enter any number : \"))\n",
    "b=int(input(\"Enter any number : \"))\n",
    "c=int(input(\"Enter any number : \"))\n",
    "add=a+b+c\n",
    "if a==b:\n",
    "    print(\"sum is zero\")\n",
    "else:\n",
    "    print(\"addition of numbers are :\", add)"
   ]
  },
  {
   "cell_type": "code",
   "execution_count": 15,
   "id": "cc8ea617-cb7a-477c-bd90-ea8e02f3ca5f",
   "metadata": {},
   "outputs": [
    {
     "name": "stdin",
     "output_type": "stream",
     "text": [
      "Please enter value for P:  5\n",
      "Please enter value for Q:  6\n"
     ]
    },
    {
     "name": "stdout",
     "output_type": "stream",
     "text": [
      "The Value of P after swapping:  6\n",
      "The Value of Q after swapping:  5\n"
     ]
    }
   ],
   "source": [
    "P = int( input(\"Please enter value for P: \"))  \n",
    "Q = int( input(\"Please enter value for Q: \"))  \n",
    "temp_1 = P  \n",
    "P = Q  \n",
    "Q = temp_1  \n",
    "   \n",
    "print (\"The Value of P after swapping: \", P)  \n",
    "print (\"The Value of Q after swapping: \", Q)  "
   ]
  },
  {
   "cell_type": "code",
   "execution_count": 1,
   "id": "904b3260-9338-42be-9660-1f355e7ffdf9",
   "metadata": {},
   "outputs": [
    {
     "name": "stdin",
     "output_type": "stream",
     "text": [
      "Enter any alphabet : u\n"
     ]
    },
    {
     "name": "stdout",
     "output_type": "stream",
     "text": [
      "u is a vowel\n"
     ]
    }
   ],
   "source": [
    "c = str(input(\"Enter any alphabet :\"))\n",
    "if c == 'a' or c == 'e' or c == 'i' or c == 'o' or c == 'u' or c == 'A' or c == 'E' or c == 'I' or c == 'O' or c == 'U':\n",
    "    print(c, \"is a vowel\")  \n",
    "else:\n",
    "    print(c, \"is a consonant\")"
   ]
  },
  {
   "cell_type": "code",
   "execution_count": 21,
   "id": "c0534ede-0f8f-410d-8ec9-4d6a8ab926ca",
   "metadata": {},
   "outputs": [
    {
     "name": "stdin",
     "output_type": "stream",
     "text": [
      "Input a number:  8\n"
     ]
    },
    {
     "name": "stdout",
     "output_type": "stream",
     "text": [
      "Sum of the first n positive integers is :  36.0\n"
     ]
    }
   ],
   "source": [
    "n=int(input(\"Input a number: \"))\n",
    "sum=(n*(n+1))/2\n",
    "print(\"Sum of the first n positive integers is : \", sum)"
   ]
  },
  {
   "cell_type": "code",
   "execution_count": 3,
   "id": "595cebfb-56bf-4280-bbd8-ca8be75c2c42",
   "metadata": {},
   "outputs": [
    {
     "name": "stdout",
     "output_type": "stream",
     "text": [
      "2\n"
     ]
    }
   ],
   "source": [
    "data=\"My name is azra and my friend's name is safeya\"\n",
    "print(data.count(\"name\"))"
   ]
  },
  {
   "cell_type": "code",
   "execution_count": null,
   "id": "efcddabb-66ca-4b45-aff1-9e4680608eba",
   "metadata": {},
   "outputs": [],
   "source": []
  }
 ],
 "metadata": {
  "kernelspec": {
   "display_name": "Python 3 (ipykernel)",
   "language": "python",
   "name": "python3"
  },
  "language_info": {
   "codemirror_mode": {
    "name": "ipython",
    "version": 3
   },
   "file_extension": ".py",
   "mimetype": "text/x-python",
   "name": "python",
   "nbconvert_exporter": "python",
   "pygments_lexer": "ipython3",
   "version": "3.11.7"
  }
 },
 "nbformat": 4,
 "nbformat_minor": 5
}
