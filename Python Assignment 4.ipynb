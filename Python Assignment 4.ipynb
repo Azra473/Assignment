{
 "cells": [
  {
   "cell_type": "markdown",
   "id": "744f31bb-5d1b-4db5-b329-823adfb01496",
   "metadata": {},
   "source": [
    "Q - What is File function in python? What is keywords to create and write file."
   ]
  },
  {
   "cell_type": "markdown",
   "id": "19edc3d9-d1f4-4515-8f32-e1c70b9dd9f4",
   "metadata": {},
   "source": [
    "A - File handling in Python is an important part of any web application. \n",
    "Python offers several functions for opening, reading, creating, writing, closing or deleting files in Python."
   ]
  },
  {
   "cell_type": "markdown",
   "id": "8480063e-9169-4582-8ae3-7e33dc98e302",
   "metadata": {},
   "source": [
    "Q - Write a Python program to read an entire text file."
   ]
  },
  {
   "cell_type": "code",
   "execution_count": 7,
   "id": "41bf2732-4362-4e9d-8031-1049a8b5ce44",
   "metadata": {},
   "outputs": [
    {
     "data": {
      "text/plain": [
       "'hi my name is azra\\ni am learning python and sql\\nin tops tech\\nhow are you?\\n'"
      ]
     },
     "execution_count": 7,
     "metadata": {},
     "output_type": "execute_result"
    }
   ],
   "source": [
    "fs=open(\"data.txt\",\"r\")\n",
    "fs.read()"
   ]
  },
  {
   "cell_type": "markdown",
   "id": "3b107429-5500-403a-8a06-12c22301c1d5",
   "metadata": {},
   "source": [
    "Q - Write a Python program to append text to a file and display the text. "
   ]
  },
  {
   "cell_type": "code",
   "execution_count": 9,
   "id": "3a9224e9-5561-4144-a3a0-5f7df31e74df",
   "metadata": {},
   "outputs": [
    {
     "data": {
      "text/plain": [
       "'hi my name is azra\\ni am learning python and sql\\nin tops tech\\nhow are you?\\nadd this line'"
      ]
     },
     "execution_count": 9,
     "metadata": {},
     "output_type": "execute_result"
    }
   ],
   "source": [
    "fs=open(\"data.txt\",\"r\")\n",
    "fs.read()"
   ]
  },
  {
   "cell_type": "markdown",
   "id": "6c578cfa-b37f-446d-b491-1aa65a51c8ee",
   "metadata": {},
   "source": [
    "Q - Write a Python program to read first n lines of a file. "
   ]
  },
  {
   "cell_type": "code",
   "execution_count": 10,
   "id": "c12e87ef-dc9c-4710-bf74-09136ff2da91",
   "metadata": {},
   "outputs": [
    {
     "name": "stdout",
     "output_type": "stream",
     "text": [
      "['hi my name is azra\\n', 'i am learning python and sql\\n', 'in tops tech\\n']\n"
     ]
    }
   ],
   "source": [
    "file_name='data.txt' \n",
    "n = 3  \n",
    "with open(file_name, 'r') as file:\n",
    "    lines = [next(file) for _ in range(n)]\n",
    "print(lines)"
   ]
  },
  {
   "cell_type": "markdown",
   "id": "c916f37e-5bf7-4694-8216-48f29a2c0281",
   "metadata": {},
   "source": [
    "Q - Write a Python program to read last n lines of a file."
   ]
  },
  {
   "cell_type": "code",
   "execution_count": 11,
   "id": "00501c8d-79fe-4c80-83a8-0f4eecc9372d",
   "metadata": {},
   "outputs": [
    {
     "name": "stdout",
     "output_type": "stream",
     "text": [
      "['in tops tech\\n', 'how are you?\\n', 'add this line']\n"
     ]
    }
   ],
   "source": [
    "file_path = 'data.txt'\n",
    "n = 3\n",
    "with open(file_path, 'r') as file:\n",
    "    lines = file.readlines()[-n:]\n",
    "print(lines)"
   ]
  },
  {
   "cell_type": "markdown",
   "id": "08fdc3a6-30db-4639-9d89-75824808c551",
   "metadata": {},
   "source": [
    "Q - Write a Python program to read a file line by line and store it into a list"
   ]
  },
  {
   "cell_type": "code",
   "execution_count": 12,
   "id": "a8e9ab67-259b-4886-88ca-0b36d0de1f43",
   "metadata": {},
   "outputs": [
    {
     "name": "stdout",
     "output_type": "stream",
     "text": [
      "['hi my name is azra', 'i am learning python and sql', 'in tops tech', 'how are you?', 'add this line']\n"
     ]
    }
   ],
   "source": [
    "file_path = 'data.txt'\n",
    "with open(file_path, 'r') as file:\n",
    "    lines = file.readlines()\n",
    "lines = [line.strip() for line in lines]\n",
    "print(lines)"
   ]
  },
  {
   "cell_type": "markdown",
   "id": "fe8cf4e0-42b6-4d64-9b04-ab16f415bced",
   "metadata": {},
   "source": [
    "Q - Write a Python program to read a file line by line store it into a variable."
   ]
  },
  {
   "cell_type": "code",
   "execution_count": 13,
   "id": "3a8f7282-598b-41b8-8383-5796026e77a2",
   "metadata": {},
   "outputs": [
    {
     "name": "stdout",
     "output_type": "stream",
     "text": [
      "Line 1: hi my name is azra\n",
      "Line 2: i am learning python and sql\n",
      "Line 3: in tops tech\n",
      "Line 4: how are you?\n",
      "Line 5: add this line\n"
     ]
    }
   ],
   "source": [
    "file_path = 'data.txt'\n",
    "\n",
    "with open(file_path, 'r') as file:\n",
    "    for line_num, line in enumerate(file, 1):\n",
    "        print(f\"Line {line_num}: {line.strip()}\")"
   ]
  },
  {
   "cell_type": "markdown",
   "id": "441dadee-2607-466f-939c-17d785af4177",
   "metadata": {},
   "source": [
    "Q - Write a python program to find the longest words. "
   ]
  },
  {
   "cell_type": "code",
   "execution_count": 1,
   "id": "f0d25172-7eb8-4940-ab74-7689a720a4a4",
   "metadata": {},
   "outputs": [
    {
     "name": "stdout",
     "output_type": "stream",
     "text": [
      "The longest word is: programming\n"
     ]
    }
   ],
   "source": [
    "text = \"I love programming in Python and SQL\"\n",
    "words = text.split()\n",
    "longest_word = \"\"\n",
    "max_length = 0\n",
    "for word in words:\n",
    "    if len(word) > max_length:\n",
    "        longest_word = word\n",
    "        max_length = len(word)\n",
    "print(\"The longest word is:\", longest_word)"
   ]
  },
  {
   "cell_type": "markdown",
   "id": "e64bf95c-d413-4041-ad21-a219951bac0b",
   "metadata": {},
   "source": [
    "Q - Write a Python program to count the number of lines in a text file. "
   ]
  },
  {
   "cell_type": "code",
   "execution_count": 14,
   "id": "b9051b5e-8e15-458f-9ada-519f70c2683c",
   "metadata": {},
   "outputs": [
    {
     "name": "stdout",
     "output_type": "stream",
     "text": [
      "Number of lines in the file: 5\n"
     ]
    }
   ],
   "source": [
    "with open(\"data.txt\", \"r\") as file:\n",
    "    lines = file.readlines()\n",
    "num_lines = len(lines)\n",
    "print(\"Number of lines in the file:\", num_lines)"
   ]
  },
  {
   "cell_type": "markdown",
   "id": "4d0a3645-85c1-42e3-9cb3-c4a4a7836e1e",
   "metadata": {},
   "source": [
    "Q - Write a Python program to count the frequency of words in a file. "
   ]
  },
  {
   "cell_type": "code",
   "execution_count": 15,
   "id": "19443151-35ec-4c6d-b742-2620f46720f4",
   "metadata": {},
   "outputs": [
    {
     "name": "stdout",
     "output_type": "stream",
     "text": [
      "hi: 1\n",
      "my: 1\n",
      "name: 1\n",
      "is: 1\n",
      "azra: 1\n",
      "i: 1\n",
      "am: 1\n",
      "learning: 1\n",
      "python: 1\n",
      "and: 1\n",
      "sql: 1\n",
      "in: 1\n",
      "tops: 1\n",
      "tech: 1\n",
      "how: 1\n",
      "are: 1\n",
      "you?: 1\n",
      "add: 1\n",
      "this: 1\n",
      "line: 1\n"
     ]
    }
   ],
   "source": [
    "from collections import Counter\n",
    "with open(\"data.txt\", \"r\") as file:\n",
    "    words = file.read().lower().split()\n",
    "word_freq = Counter(words)\n",
    "for word, freq in word_freq.most_common():\n",
    "    print(f\"{word}: {freq}\")"
   ]
  },
  {
   "cell_type": "markdown",
   "id": "dcc51523-fef5-4ffa-87e7-fbe02eb6e2d4",
   "metadata": {},
   "source": [
    "Q - Write a Python program to write a list to a file. "
   ]
  },
  {
   "cell_type": "code",
   "execution_count": 16,
   "id": "b3ced0f7-7a97-4d45-8373-daceabc9db4d",
   "metadata": {},
   "outputs": [],
   "source": [
    "list = [1, 2, 3, 4, 5, 6, 7, 8, 9, 10]\n",
    "with open(\"data2.txt\", \"w\") as file:\n",
    "    for item in list:\n",
    "        file.write(str(item) + \"\\n\")"
   ]
  },
  {
   "cell_type": "markdown",
   "id": "eda4adba-fa0c-4bec-9860-6209e4b26f63",
   "metadata": {},
   "source": [
    "Q - Write a Python program to copy the contents of a file to another file. "
   ]
  },
  {
   "cell_type": "code",
   "execution_count": 17,
   "id": "101dc7c5-d647-440c-8596-ca4a34ed504b",
   "metadata": {},
   "outputs": [],
   "source": [
    "with open(\"data2.txt\", \"r\") as source:\n",
    "    with open(\"data3.txt\", \"w\") as destination:\n",
    "        destination.write(source.read())"
   ]
  },
  {
   "cell_type": "markdown",
   "id": "86223306-3bb7-4cb4-95f9-1510f687e930",
   "metadata": {},
   "source": [
    "Q - Explain Exception handling? What is an Error in Python?"
   ]
  },
  {
   "cell_type": "markdown",
   "id": "23f6e662-1ac5-48ec-a6ec-9dde88cd06a5",
   "metadata": {},
   "source": [
    "A - The requirement for handling exceptions in Python arises when an error occurs that can cause the program to terminate. Errors interrupt the flow of the program at the point where they appear, so any further code stops executing. This error is called an exception."
   ]
  },
  {
   "cell_type": "markdown",
   "id": "d2d74083-364f-4651-80c5-54c6cd80de07",
   "metadata": {},
   "source": [
    "Q - How many except statements can a try-except block have? Name Some \n",
    "built-in exception classes: "
   ]
  },
  {
   "cell_type": "markdown",
   "id": "492f33b4-fb98-4dc1-9d3e-bb54601fd286",
   "metadata": {},
   "source": [
    "A - There has to be at least one except statement. Some built-in exception classes is import error, index error, syntax error, zero division error etc."
   ]
  },
  {
   "cell_type": "markdown",
   "id": "8ea6a7b9-4a72-4047-abf6-e8c685ced523",
   "metadata": {},
   "source": [
    "Q - When will the else part of try-except-else be executed? "
   ]
  },
  {
   "cell_type": "markdown",
   "id": "3c5a64c4-70ae-4294-85ad-ce2b94e9437e",
   "metadata": {},
   "source": [
    "A - The 'else' block is executed when there are no exceptions raised within the try block. The 'else' block is useful when you want to perform specific actions when no exceptions occur."
   ]
  },
  {
   "cell_type": "markdown",
   "id": "8de57dc9-4208-4a89-a531-8619595a616f",
   "metadata": {},
   "source": [
    "Q - Can one block of except statements handle multiple exception? "
   ]
  },
  {
   "cell_type": "markdown",
   "id": "9aa238ef-baf4-45cd-855a-5d4ce9968850",
   "metadata": {},
   "source": [
    "A - Yes, a single block of except statements in Python can handle multiple exceptions"
   ]
  },
  {
   "cell_type": "markdown",
   "id": "84c4f96e-716c-4dc2-95ee-ac94dac6eaf0",
   "metadata": {},
   "source": [
    "Q - When is the finally block executed?"
   ]
  },
  {
   "cell_type": "markdown",
   "id": "56f3c508-0390-4990-94da-190ebd953f3c",
   "metadata": {},
   "source": [
    "A - A finally block always executes, regardless of whether an exception is thrown."
   ]
  },
  {
   "cell_type": "markdown",
   "id": "ba258750-2974-4a7a-abcd-4519b2e63ff4",
   "metadata": {},
   "source": [
    "Q - What happens when „1‟== 1 is executed?"
   ]
  },
  {
   "cell_type": "markdown",
   "id": "6f886234-4432-457e-bd03-11e86946dc00",
   "metadata": {},
   "source": [
    "A - We get a False."
   ]
  },
  {
   "cell_type": "markdown",
   "id": "d79457a9-1747-4140-95da-799de7fc372e",
   "metadata": {},
   "source": [
    "Q - How Do You Handle Exceptions With Try/Except/Finally In Python? \n",
    "Explain with coding snippets.\n",
    " "
   ]
  },
  {
   "cell_type": "markdown",
   "id": "f75a4e47-7baa-42a3-a599-1d6ce2bdcc72",
   "metadata": {},
   "source": [
    "A - Try: This block will test the excepted error to occur\n",
    "Except:  Here you can handle the error\n",
    "Else: If there is no exception then this block will be executed\n",
    "Finally: Finally block always gets executed either exception is generated or not"
   ]
  },
  {
   "cell_type": "markdown",
   "id": "9341b50d-d576-42af-afaf-550e5b560568",
   "metadata": {},
   "source": [
    "Q - Write python program that user to enter only odd numbers, else will \n",
    "raise an exception. "
   ]
  },
  {
   "cell_type": "code",
   "execution_count": 19,
   "id": "cf69a17c-cff4-4e3a-ab22-07b7c8b4e038",
   "metadata": {},
   "outputs": [
    {
     "name": "stdin",
     "output_type": "stream",
     "text": [
      "Enter an odd number:  4\n"
     ]
    },
    {
     "name": "stdout",
     "output_type": "stream",
     "text": [
      "Not an odd number\n"
     ]
    },
    {
     "name": "stdin",
     "output_type": "stream",
     "text": [
      "Enter an odd number:  3\n"
     ]
    },
    {
     "name": "stdout",
     "output_type": "stream",
     "text": [
      "You entered an odd number: 3\n"
     ]
    }
   ],
   "source": [
    "while True:\n",
    "    try:\n",
    "        num = int(input(\"Enter an odd number: \"))\n",
    "        if num % 2 == 0:\n",
    "            raise ValueError(\"Not an odd number\")\n",
    "        else:\n",
    "            print(\"You entered an odd number:\", num)\n",
    "            break\n",
    "    except ValueError as e:\n",
    "        print(e)"
   ]
  },
  {
   "cell_type": "markdown",
   "id": "4626c24e-3dc7-45b2-b69a-bb36fd73b762",
   "metadata": {},
   "source": [
    "Q - What are oops concepts?"
   ]
  },
  {
   "cell_type": "markdown",
   "id": "f0994109-49db-4914-a798-fa17801591c2",
   "metadata": {},
   "source": [
    "Abstraction, encapsulation, polymorphism, and inheritance are the four main theoretical principles of object-oriented programming."
   ]
  },
  {
   "cell_type": "markdown",
   "id": "adef81f5-55a5-4200-9100-324f2ebeba71",
   "metadata": {},
   "source": [
    "Q - How to Define a Class in Python? What Is Self? Give An Example Of A Python Class."
   ]
  },
  {
   "cell_type": "markdown",
   "id": "c60bc2a2-f158-4110-8c00-b5e3f8b229e5",
   "metadata": {},
   "source": [
    "A - In Python, a class is defined using the 'class' keyword, the class name, and a colon. \n",
    "The constructor used to initialize an object's attributes, the '__init__' method, usually comes first in the class body of method declarations.\n",
    "Self represents the instance of class.\n",
    "MyClass is a class definition with an __init__ method that initializes two attributes, parameter1 and parameter2."
   ]
  },
  {
   "cell_type": "markdown",
   "id": "e1d72409-c1e4-4eec-9db0-0028606f5778",
   "metadata": {},
   "source": [
    "Q - Write a Python class named Rectangle constructed by a length and width and a method which will compute the area of a rectangle."
   ]
  },
  {
   "cell_type": "code",
   "execution_count": 20,
   "id": "0578b00a-28df-444a-abb0-62811a2439cb",
   "metadata": {},
   "outputs": [
    {
     "name": "stdout",
     "output_type": "stream",
     "text": [
      "Area of the rectangle: 15\n"
     ]
    }
   ],
   "source": [
    "class Rectangle:\n",
    "    def __init__(self, length, width):\n",
    "        self.length = length\n",
    "        self.width = width\n",
    "    def area(self):\n",
    "        return self.length * self.width\n",
    "rect = Rectangle(5, 3)\n",
    "print(\"Area of the rectangle:\", rect.area())"
   ]
  },
  {
   "cell_type": "markdown",
   "id": "fb66971b-6bfc-4534-815d-4aaab34d9512",
   "metadata": {},
   "source": [
    "Q - Write a Python class named Circle constructed by a radius and two \n",
    "methods which will compute the area and the perimeter of a circl.e "
   ]
  },
  {
   "cell_type": "code",
   "execution_count": 21,
   "id": "6c3c78b3-368c-4d21-8520-b704766067cd",
   "metadata": {},
   "outputs": [
    {
     "name": "stdout",
     "output_type": "stream",
     "text": [
      "Area of the circle: 78.53981633974483\n",
      "Perimeter of the circle: 31.41592653589793\n"
     ]
    }
   ],
   "source": [
    "import math\n",
    "class Circle:\n",
    "    def __init__(self, radius):\n",
    "        self.radius = radius\n",
    "    def area(self):\n",
    "        return math.pi * (self.radius ** 2)\n",
    "    def perimeter(self):\n",
    "        return 2 * math.pi * self.radius\n",
    "circle = Circle(5)\n",
    "print(\"Area of the circle:\", circle.area()) \n",
    "print(\"Perimeter of the circle:\", circle.perimeter()) "
   ]
  },
  {
   "cell_type": "markdown",
   "id": "2d0377cd-6711-4431-b7c9-ec54491cb2dc",
   "metadata": {},
   "source": [
    "Q - Explain Inheritance in Python with an example? What is init? Or What \n",
    "Is A Constructor In Python?"
   ]
  },
  {
   "cell_type": "markdown",
   "id": "fbd5b601-c8ba-4de0-b97e-3bd53528f7b4",
   "metadata": {},
   "source": [
    "A -  Python inheritance in which a child class is inheriting the properties of its parent class. In this example, 'Person' is the parent class, and 'Employee' is its child class.\n",
    "The __init__ method is crucial in object-oriented programming in Python. It is a special method automatically called when an object is created from a class. \n",
    "Constructors in Python is a special class method for creating and initializing an object instance at that class."
   ]
  },
  {
   "cell_type": "markdown",
   "id": "affe39da-1062-4f40-b981-8c610c2bf564",
   "metadata": {},
   "source": [
    "Q - What is Instantiation in terms of OOP terminology? "
   ]
  },
  {
   "cell_type": "markdown",
   "id": "58784ce9-2612-47c3-9fcc-e3ed6d18bf89",
   "metadata": {},
   "source": [
    "A - Instantiation is a core concept in object-oriented programming. It's the process where you create an instance of a class, which essentially means creating an object from a blueprint (class)."
   ]
  },
  {
   "cell_type": "markdown",
   "id": "1fba4524-7128-4f57-ab18-4436862a523e",
   "metadata": {},
   "source": [
    "Q - What is used to check whether an object o is an instance of class A?"
   ]
  },
  {
   "cell_type": "markdown",
   "id": "0500922d-9862-4d16-b4e1-cce9a64f16da",
   "metadata": {},
   "source": [
    "A - The isinstance () function checks whether an object is an instance of the class mentioned. One can test if an object or variable is an instance of the type or class."
   ]
  }
 ],
 "metadata": {
  "kernelspec": {
   "display_name": "Python 3 (ipykernel)",
   "language": "python",
   "name": "python3"
  },
  "language_info": {
   "codemirror_mode": {
    "name": "ipython",
    "version": 3
   },
   "file_extension": ".py",
   "mimetype": "text/x-python",
   "name": "python",
   "nbconvert_exporter": "python",
   "pygments_lexer": "ipython3",
   "version": "3.11.7"
  }
 },
 "nbformat": 4,
 "nbformat_minor": 5
}
